{
  "nbformat": 4,
  "nbformat_minor": 0,
  "metadata": {
    "colab": {
      "provenance": [],
      "authorship_tag": "ABX9TyPJU2rjHYuuJ7OgngrJdVbI",
      "include_colab_link": true
    },
    "kernelspec": {
      "name": "python3",
      "display_name": "Python 3"
    },
    "language_info": {
      "name": "python"
    }
  },
  "cells": [
    {
      "cell_type": "markdown",
      "metadata": {
        "id": "view-in-github",
        "colab_type": "text"
      },
      "source": [
        "<a href=\"https://colab.research.google.com/github/hiktan44/django-server/blob/main/Untitled2.ipynb\" target=\"_parent\"><img src=\"https://colab.research.google.com/assets/colab-badge.svg\" alt=\"Open In Colab\"/></a>"
      ]
    },
    {
      "cell_type": "code",
      "execution_count": null,
      "metadata": {
        "id": "M_l6mbGWm6Fp",
        "outputId": "db7a0500-9562-4829-99e6-df5eb3accf17",
        "colab": {
          "base_uri": "https://localhost:8080/",
          "height": 143
        }
      },
      "outputs": [
        {
          "output_type": "error",
          "ename": "SyntaxError",
          "evalue": "ignored",
          "traceback": [
            "\u001b[0;36m  File \u001b[0;32m\"<ipython-input-1-4b619f97e3c8>\"\u001b[0;36m, line \u001b[0;32m1\u001b[0m\n\u001b[0;31m    https://colab.research.google.com/drive/1H-lvvHMXpAMIB4nWqPiAikEG7_Q_Tdbj#scrollTo=M_l6mbGWm6Fp&line=1&uniqifier=1\u001b[0m\n\u001b[0m                                            ^\u001b[0m\n\u001b[0;31mSyntaxError\u001b[0m\u001b[0;31m:\u001b[0m invalid decimal literal\n"
          ]
        }
      ],
      "source": [
        "https://colab.research.google.com/drive/1H-lvvHMXpAMIB4nWqPiAikEG7_Q_Tdbj#scrollTo=M_l6mbGWm6Fp&line=1&uniqifier=1\n"
      ]
    },
    {
      "source": [
        "import requests\n",
        "import json\n",
        "\n",
        "# Get the image from the user\n",
        "image = input(\"Enter the URL of the image: \")\n",
        "\n",
        "# Make a request to the Google Vision API\n",
        "response = requests.post(\n",
        "    \"https://vision.googleapis.com/v1/images:annotate\",\n",
        "    headers={\n",
        "        \"Authorization\": \"Bearer YOUR_API_KEY\",\n",
        "    },\n",
        "    data=json.dumps({\n",
        "        \"requests\": [\n",
        "            {\n",
        "                \"image\": {\n",
        "                    \"source\": {\n",
        "                        \"imageUri\": image,\n",
        "                    },\n",
        "                },\n",
        "                \"features\": [\n",
        "                    {\n",
        "                        \"type\": \"FACE_DETECTION\",\n",
        "                    },\n",
        "                ],\n",
        "            },\n",
        "        ],\n",
        "    }),\n",
        ")\n",
        "\n",
        "# Parse the response\n",
        "response_json = json.loads(response.content)\n",
        "\n",
        "# Get the face detection results\n",
        "face_detection_results = response_json[\"responses\"][0][\"faceAnnotations\"]\n",
        "\n",
        "# Get the person's height and weight\n",
        "height = face_detection_results[0][\"boundingPoly\"][\"vertices\"][2][\"y\"] - face_detection_results[0][\"boundingPoly\"][\"vertices\"][0][\"y\"]\n",
        "weight = face_detection_results[0][\"boundingPoly\"][\"vertices\"][1][\"x\"] - face_detection_results[0][\"boundingPoly\"][\"vertices\"][3][\"x\"]\n",
        "\n",
        "# Calculate the person's body measurements\n",
        "body_measurements = {\n",
        "    \"height\": height,\n",
        "    \"weight\": weight,\n",
        "}\n",
        "\n",
        "# Print the body measurements\n",
        "print(body_measurements)"
      ],
      "cell_type": "code",
      "metadata": {
        "colab": {
          "base_uri": "https://localhost:8080/",
          "height": 268
        },
        "id": "OcLkKDiXnjMV",
        "outputId": "fd7e1ff1-cb15-4d49-c53b-faac188fdd84"
      },
      "execution_count": null,
      "outputs": [
        {
          "name": "stdout",
          "output_type": "stream",
          "text": [
            "Enter the URL of the image: https://www.lufian.com/todillo-erkek-sweatshirt-kirik-beyaz-6984\n"
          ]
        },
        {
          "output_type": "error",
          "ename": "KeyError",
          "evalue": "ignored",
          "traceback": [
            "\u001b[0;31m---------------------------------------------------------------------------\u001b[0m",
            "\u001b[0;31mKeyError\u001b[0m                                  Traceback (most recent call last)",
            "\u001b[0;32m<ipython-input-1-9ac829d48a35>\u001b[0m in \u001b[0;36m<cell line: 35>\u001b[0;34m()\u001b[0m\n\u001b[1;32m     33\u001b[0m \u001b[0;34m\u001b[0m\u001b[0m\n\u001b[1;32m     34\u001b[0m \u001b[0;31m# Get the face detection results\u001b[0m\u001b[0;34m\u001b[0m\u001b[0;34m\u001b[0m\u001b[0m\n\u001b[0;32m---> 35\u001b[0;31m \u001b[0mface_detection_results\u001b[0m \u001b[0;34m=\u001b[0m \u001b[0mresponse_json\u001b[0m\u001b[0;34m[\u001b[0m\u001b[0;34m\"responses\"\u001b[0m\u001b[0;34m]\u001b[0m\u001b[0;34m[\u001b[0m\u001b[0;36m0\u001b[0m\u001b[0;34m]\u001b[0m\u001b[0;34m[\u001b[0m\u001b[0;34m\"faceAnnotations\"\u001b[0m\u001b[0;34m]\u001b[0m\u001b[0;34m\u001b[0m\u001b[0;34m\u001b[0m\u001b[0m\n\u001b[0m\u001b[1;32m     36\u001b[0m \u001b[0;34m\u001b[0m\u001b[0m\n\u001b[1;32m     37\u001b[0m \u001b[0;31m# Get the person's height and weight\u001b[0m\u001b[0;34m\u001b[0m\u001b[0;34m\u001b[0m\u001b[0m\n",
            "\u001b[0;31mKeyError\u001b[0m: 'responses'"
          ]
        }
      ]
    },
    {
      "source": [
        "import requests\n",
        "import json\n",
        "\n",
        "# Get the image from the user\n",
        "image = input(\"Enter the URL of the image: \")\n",
        "\n",
        "# Make a request to the Google Vision API\n",
        "response = requests.post(\n",
        "    \"https://vision.googleapis.com/v1/images:annotate\",\n",
        "    headers={\n",
        "        \"Authorization\": \"Bearer YOUR_API_KEY\",\n",
        "    },\n",
        "    data=json.dumps({\n",
        "        \"requests\": [\n",
        "            {\n",
        "                \"image\": {\n",
        "                    \"source\": {\n",
        "                        \"imageUri\": image,\n",
        "                    },\n",
        "                },\n",
        "                \"features\": [\n",
        "                    {\n",
        "                        \"type\": \"FACE_DETECTION\",\n",
        "                    },\n",
        "                ],\n",
        "            },\n",
        "        ],\n",
        "    }),\n",
        ")\n",
        "\n",
        "# Parse the response\n",
        "response_json = json.loads(response.content)\n",
        "\n",
        "# Check if the responses key is present\n",
        "if \"responses\" not in response_json:\n",
        "    raise Exception(\"Invalid image URL\")\n",
        "\n",
        "# Get the face detection results\n",
        "face_detection_results = response_json[\"responses\"][0][\"faceAnnotations\"]\n",
        "\n",
        "# Get the person's height and weight\n",
        "height = face_detection_results[0][\"boundingPoly\"][\"vertices\"][2][\"y\"] - face_detection_results[0][\"boundingPoly\"][\"vertices\"][0][\"y\"]\n",
        "weight = face_detection_results[0][\"boundingPoly\"][\"vertices\"][1][\"x\"] - face_detection_results[0][\"boundingPoly\"][\"vertices\"][3][\"x\"]\n",
        "\n",
        "# Calculate the person's body measurements\n",
        "body_measurements = {\n",
        "    \"height\": height,\n",
        "    \"weight\": weight,\n",
        "}\n",
        "\n",
        "# Print the body measurements\n",
        "print(body_measurements)"
      ],
      "cell_type": "code",
      "metadata": {
        "colab": {
          "base_uri": "https://localhost:8080/",
          "height": 268
        },
        "id": "qvH7u47JoB5p",
        "outputId": "266e5ea4-120f-4dac-b4bd-d72943c2cd26"
      },
      "execution_count": null,
      "outputs": [
        {
          "name": "stdout",
          "output_type": "stream",
          "text": [
            "Enter the URL of the image: https://www.lufian.com/todillo-erkek-sweatshirt-kirik-beyaz-6984\n"
          ]
        },
        {
          "output_type": "error",
          "ename": "Exception",
          "evalue": "ignored",
          "traceback": [
            "\u001b[0;31m---------------------------------------------------------------------------\u001b[0m",
            "\u001b[0;31mException\u001b[0m                                 Traceback (most recent call last)",
            "\u001b[0;32m<ipython-input-2-b328b018df86>\u001b[0m in \u001b[0;36m<cell line: 35>\u001b[0;34m()\u001b[0m\n\u001b[1;32m     34\u001b[0m \u001b[0;31m# Check if the responses key is present\u001b[0m\u001b[0;34m\u001b[0m\u001b[0;34m\u001b[0m\u001b[0m\n\u001b[1;32m     35\u001b[0m \u001b[0;32mif\u001b[0m \u001b[0;34m\"responses\"\u001b[0m \u001b[0;32mnot\u001b[0m \u001b[0;32min\u001b[0m \u001b[0mresponse_json\u001b[0m\u001b[0;34m:\u001b[0m\u001b[0;34m\u001b[0m\u001b[0;34m\u001b[0m\u001b[0m\n\u001b[0;32m---> 36\u001b[0;31m     \u001b[0;32mraise\u001b[0m \u001b[0mException\u001b[0m\u001b[0;34m(\u001b[0m\u001b[0;34m\"Invalid image URL\"\u001b[0m\u001b[0;34m)\u001b[0m\u001b[0;34m\u001b[0m\u001b[0;34m\u001b[0m\u001b[0m\n\u001b[0m\u001b[1;32m     37\u001b[0m \u001b[0;34m\u001b[0m\u001b[0m\n\u001b[1;32m     38\u001b[0m \u001b[0;31m# Get the face detection results\u001b[0m\u001b[0;34m\u001b[0m\u001b[0;34m\u001b[0m\u001b[0m\n",
            "\u001b[0;31mException\u001b[0m: Invalid image URL"
          ]
        }
      ]
    },
    {
      "cell_type": "markdown",
      "source": [],
      "metadata": {
        "id": "ElGPreX077jr"
      }
    },
    {
      "source": [],
      "cell_type": "code",
      "metadata": {
        "id": "1_yWyxaEoW6h"
      },
      "execution_count": null,
      "outputs": []
    },
    {
      "source": [],
      "cell_type": "code",
      "metadata": {
        "id": "ZA53k4lQol_c"
      },
      "execution_count": null,
      "outputs": []
    },
    {
      "cell_type": "code",
      "source": [],
      "metadata": {
        "id": "ZMjGfDKS7gw5"
      },
      "execution_count": null,
      "outputs": []
    }
  ]
}